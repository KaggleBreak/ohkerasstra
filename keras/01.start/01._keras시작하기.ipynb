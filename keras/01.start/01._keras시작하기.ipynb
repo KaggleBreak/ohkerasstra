{
 "cells": [
  {
   "cell_type": "markdown",
   "metadata": {},
   "source": [
    "### 오케라스트라 (캐글뽀개기X케라스코리아) 파트1 주말반\n",
    "#### 캐글뽀개기, 이상열\n",
    "#### (keras) 1. 케라스 시작하기\n",
    "\n",
    "#### 커뮤니티 \n",
    "- 캐글뽀개기 : https://www.facebook.com/groups/kagglebreak/\n",
    "- 케라스 코리아 : https://www.facebook.com/groups/KerasKorea/\n",
    "\n",
    "![img](./img/image.jpg)\n",
    "\n",
    "- Reference : 저자 블로그 https://tykimos.github.io/lecture/\n",
    "\n",
    "### 1. 케라스 시작하기\n",
    "\n",
    "#### 1.1 케라스의 주요 특징\n",
    "1. 모듈화 (모듈 독립적, 가능한 최소한의 제약사항, 시퀀스 또는 그래프로 모듈들 구성)\n",
    "2. 최소주의 (각 모듈은 짧고 간결성)\n",
    "3. 쉬운 확장성 (새로운 클래스나 함수로 모듈을 쉽게 추가할 수 있음)\n",
    "4. 파이썬 기반\n",
    "\n",
    "#### 1.2 케라스 기본 개념\n",
    "- 가장 핵심적인 데이터 구조 = 모델, 시퀀스 모델로 원하는 레이어 순차적으로 쌓을 수 있음\n",
    "\n",
    "1. 데이터셋 생성하기 \n",
    "    - 원본 데이터 불러오거나 시뮬레이션 통해 데이터 생성\n",
    "    - 데이터로부터 훈련셋, 검증셋, 시험셋 생성\n",
    "2. 모델 구성하기\n",
    "    - 시퀀스 모델 생성 뒤 필요한 레이어 추가 구성\n",
    "    - 복잡한 모델이 필요할 때는 케라스 함수 API 사용\n",
    "3. 모델 학습과정 설정하기\n",
    "    - 학습하기 전에 학습에 대한 설정을 수행\n",
    "    - 손실 함수 및 최적화 방법 정의\n",
    "    - 케라스에서는 complie() 함수를 사용\n",
    "4. 모델 학습시키기\n",
    "    - 훈련셋을 이용하여 구성한 모델 학습\n",
    "5. 학습과정 살펴보기\n",
    "    - 모델 학습 시 훈련셋, 검증셋의 손실 및 정확도 측정\n",
    "6. 모델 평가하기\n",
    "    - 준비된 시험셋으로 학습한 모델 평가\n",
    "7. 모델 사용하기\n",
    "    - 임의의 입력으로 모델의 출력을 얻음\n",
    "    \n",
    "#### 1.3 손글씨 영상 분류 모델 구현 \n",
    "- 28 X 28 이미지 입력 받아 784 벡터로 구성한 휘 학습 및 평가하는 코드"
   ]
  },
  {
   "cell_type": "code",
   "execution_count": 1,
   "metadata": {
    "collapsed": false
   },
   "outputs": [
    {
     "name": "stderr",
     "output_type": "stream",
     "text": [
      "Using TensorFlow backend.\n"
     ]
    }
   ],
   "source": [
    "# 0. 사용할 패키지 불러오기\n",
    "from keras.utils import np_utils\n",
    "from keras.datasets import mnist\n",
    "from keras.models import Sequential\n",
    "from keras.layers import Dense, Activation\n",
    "from keras.utils import plot_model"
   ]
  },
  {
   "cell_type": "code",
   "execution_count": 2,
   "metadata": {
    "collapsed": false
   },
   "outputs": [],
   "source": [
    "# 1. 데이터셋 생성하기\n",
    "(x_train, y_train), (x_test, y_test) = mnist.load_data()\n",
    "x_train = x_train.reshape(60000, 784).astype('float32') / 255.0\n",
    "x_test = x_test.reshape(10000, 784).astype('float32') / 255.0\n",
    "y_train = np_utils.to_categorical(y_train)\n",
    "y_test = np_utils.to_categorical(y_test)"
   ]
  },
  {
   "cell_type": "code",
   "execution_count": 3,
   "metadata": {
    "collapsed": true
   },
   "outputs": [],
   "source": [
    "import numpy as np"
   ]
  },
  {
   "cell_type": "code",
   "execution_count": 4,
   "metadata": {
    "collapsed": false
   },
   "outputs": [
    {
     "data": {
      "text/plain": [
       "(60000, 784)"
      ]
     },
     "execution_count": 4,
     "metadata": {},
     "output_type": "execute_result"
    }
   ],
   "source": [
    "np.shape(x_train)"
   ]
  },
  {
   "cell_type": "code",
   "execution_count": 5,
   "metadata": {
    "collapsed": false
   },
   "outputs": [
    {
     "data": {
      "text/plain": [
       "(10000, 784)"
      ]
     },
     "execution_count": 5,
     "metadata": {},
     "output_type": "execute_result"
    }
   ],
   "source": [
    "np.shape(x_test)"
   ]
  },
  {
   "cell_type": "code",
   "execution_count": 6,
   "metadata": {
    "collapsed": false
   },
   "outputs": [
    {
     "data": {
      "text/plain": [
       "(60000, 10)"
      ]
     },
     "execution_count": 6,
     "metadata": {},
     "output_type": "execute_result"
    }
   ],
   "source": [
    "np.shape(y_train)"
   ]
  },
  {
   "cell_type": "code",
   "execution_count": 7,
   "metadata": {
    "collapsed": false
   },
   "outputs": [
    {
     "data": {
      "text/plain": [
       "(10000, 784)"
      ]
     },
     "execution_count": 7,
     "metadata": {},
     "output_type": "execute_result"
    }
   ],
   "source": [
    "np.shape(x_test)"
   ]
  },
  {
   "cell_type": "code",
   "execution_count": 8,
   "metadata": {
    "collapsed": true
   },
   "outputs": [],
   "source": [
    "# 2. 모델 구성하기\n",
    "model = Sequential()\n",
    "model.add(Dense(units=64, input_dim=28*28, activation='relu'))\n",
    "model.add(Dense(units=10, activation='softmax'))"
   ]
  },
  {
   "cell_type": "code",
   "execution_count": 9,
   "metadata": {
    "collapsed": false
   },
   "outputs": [],
   "source": [
    "from IPython.display import SVG\n",
    "from keras.utils.vis_utils import model_to_dot\n",
    "%matplotlib inline\n",
    "\n",
    "# pydot 윈도우 에러 : https://tykimos.github.io/2017/08/07/Keras_Install_on_Windows/"
   ]
  },
  {
   "cell_type": "code",
   "execution_count": 10,
   "metadata": {
    "collapsed": false
   },
   "outputs": [
    {
     "data": {
      "image/svg+xml": [
       "<svg height=\"221pt\" viewBox=\"0.00 0.00 313.00 221.00\" width=\"313pt\" xmlns=\"http://www.w3.org/2000/svg\" xmlns:xlink=\"http://www.w3.org/1999/xlink\">\n",
       "<g class=\"graph\" id=\"graph0\" transform=\"scale(1 1) rotate(0) translate(4 217)\">\n",
       "<title>G</title>\n",
       "<polygon fill=\"white\" points=\"-4,4 -4,-217 309,-217 309,4 -4,4\" stroke=\"none\"/>\n",
       "<!-- 2798389420776 -->\n",
       "<g class=\"node\" id=\"node1\"><title>2798389420776</title>\n",
       "<polygon fill=\"none\" points=\"0,-166.5 0,-212.5 305,-212.5 305,-166.5 0,-166.5\" stroke=\"black\"/>\n",
       "<text font-family=\"Times New Roman,serif\" font-size=\"14.00\" text-anchor=\"middle\" x=\"83\" y=\"-185.8\">dense_1_input: InputLayer</text>\n",
       "<polyline fill=\"none\" points=\"166,-166.5 166,-212.5 \" stroke=\"black\"/>\n",
       "<text font-family=\"Times New Roman,serif\" font-size=\"14.00\" text-anchor=\"middle\" x=\"194\" y=\"-197.3\">input:</text>\n",
       "<polyline fill=\"none\" points=\"166,-189.5 222,-189.5 \" stroke=\"black\"/>\n",
       "<text font-family=\"Times New Roman,serif\" font-size=\"14.00\" text-anchor=\"middle\" x=\"194\" y=\"-174.3\">output:</text>\n",
       "<polyline fill=\"none\" points=\"222,-166.5 222,-212.5 \" stroke=\"black\"/>\n",
       "<text font-family=\"Times New Roman,serif\" font-size=\"14.00\" text-anchor=\"middle\" x=\"263.5\" y=\"-197.3\">(None, 784)</text>\n",
       "<polyline fill=\"none\" points=\"222,-189.5 305,-189.5 \" stroke=\"black\"/>\n",
       "<text font-family=\"Times New Roman,serif\" font-size=\"14.00\" text-anchor=\"middle\" x=\"263.5\" y=\"-174.3\">(None, 784)</text>\n",
       "</g>\n",
       "<!-- 2798389395184 -->\n",
       "<g class=\"node\" id=\"node2\"><title>2798389395184</title>\n",
       "<polygon fill=\"none\" points=\"31,-83.5 31,-129.5 274,-129.5 274,-83.5 31,-83.5\" stroke=\"black\"/>\n",
       "<text font-family=\"Times New Roman,serif\" font-size=\"14.00\" text-anchor=\"middle\" x=\"83\" y=\"-102.8\">dense_1: Dense</text>\n",
       "<polyline fill=\"none\" points=\"135,-83.5 135,-129.5 \" stroke=\"black\"/>\n",
       "<text font-family=\"Times New Roman,serif\" font-size=\"14.00\" text-anchor=\"middle\" x=\"163\" y=\"-114.3\">input:</text>\n",
       "<polyline fill=\"none\" points=\"135,-106.5 191,-106.5 \" stroke=\"black\"/>\n",
       "<text font-family=\"Times New Roman,serif\" font-size=\"14.00\" text-anchor=\"middle\" x=\"163\" y=\"-91.3\">output:</text>\n",
       "<polyline fill=\"none\" points=\"191,-83.5 191,-129.5 \" stroke=\"black\"/>\n",
       "<text font-family=\"Times New Roman,serif\" font-size=\"14.00\" text-anchor=\"middle\" x=\"232.5\" y=\"-114.3\">(None, 784)</text>\n",
       "<polyline fill=\"none\" points=\"191,-106.5 274,-106.5 \" stroke=\"black\"/>\n",
       "<text font-family=\"Times New Roman,serif\" font-size=\"14.00\" text-anchor=\"middle\" x=\"232.5\" y=\"-91.3\">(None, 64)</text>\n",
       "</g>\n",
       "<!-- 2798389420776&#45;&gt;2798389395184 -->\n",
       "<g class=\"edge\" id=\"edge1\"><title>2798389420776-&gt;2798389395184</title>\n",
       "<path d=\"M152.5,-166.366C152.5,-158.152 152.5,-148.658 152.5,-139.725\" fill=\"none\" stroke=\"black\"/>\n",
       "<polygon fill=\"black\" points=\"156,-139.607 152.5,-129.607 149,-139.607 156,-139.607\" stroke=\"black\"/>\n",
       "</g>\n",
       "<!-- 2798389575352 -->\n",
       "<g class=\"node\" id=\"node3\"><title>2798389575352</title>\n",
       "<polygon fill=\"none\" points=\"34,-0.5 34,-46.5 271,-46.5 271,-0.5 34,-0.5\" stroke=\"black\"/>\n",
       "<text font-family=\"Times New Roman,serif\" font-size=\"14.00\" text-anchor=\"middle\" x=\"86\" y=\"-19.8\">dense_2: Dense</text>\n",
       "<polyline fill=\"none\" points=\"138,-0.5 138,-46.5 \" stroke=\"black\"/>\n",
       "<text font-family=\"Times New Roman,serif\" font-size=\"14.00\" text-anchor=\"middle\" x=\"166\" y=\"-31.3\">input:</text>\n",
       "<polyline fill=\"none\" points=\"138,-23.5 194,-23.5 \" stroke=\"black\"/>\n",
       "<text font-family=\"Times New Roman,serif\" font-size=\"14.00\" text-anchor=\"middle\" x=\"166\" y=\"-8.3\">output:</text>\n",
       "<polyline fill=\"none\" points=\"194,-0.5 194,-46.5 \" stroke=\"black\"/>\n",
       "<text font-family=\"Times New Roman,serif\" font-size=\"14.00\" text-anchor=\"middle\" x=\"232.5\" y=\"-31.3\">(None, 64)</text>\n",
       "<polyline fill=\"none\" points=\"194,-23.5 271,-23.5 \" stroke=\"black\"/>\n",
       "<text font-family=\"Times New Roman,serif\" font-size=\"14.00\" text-anchor=\"middle\" x=\"232.5\" y=\"-8.3\">(None, 10)</text>\n",
       "</g>\n",
       "<!-- 2798389395184&#45;&gt;2798389575352 -->\n",
       "<g class=\"edge\" id=\"edge2\"><title>2798389395184-&gt;2798389575352</title>\n",
       "<path d=\"M152.5,-83.3664C152.5,-75.1516 152.5,-65.6579 152.5,-56.7252\" fill=\"none\" stroke=\"black\"/>\n",
       "<polygon fill=\"black\" points=\"156,-56.6068 152.5,-46.6068 149,-56.6069 156,-56.6068\" stroke=\"black\"/>\n",
       "</g>\n",
       "</g>\n",
       "</svg>"
      ],
      "text/plain": [
       "<IPython.core.display.SVG object>"
      ]
     },
     "execution_count": 10,
     "metadata": {},
     "output_type": "execute_result"
    }
   ],
   "source": [
    "SVG(model_to_dot(model, show_shapes=True).create(prog='dot', format='svg'))"
   ]
  },
  {
   "cell_type": "code",
   "execution_count": 37,
   "metadata": {
    "collapsed": false
   },
   "outputs": [],
   "source": [
    "# 3. 모델 학습과정 설정하기\n",
    "model.compile(loss='categorical_crossentropy', optimizer='sgd', metrics=['accuracy'])"
   ]
  },
  {
   "cell_type": "code",
   "execution_count": 38,
   "metadata": {
    "collapsed": false
   },
   "outputs": [
    {
     "name": "stdout",
     "output_type": "stream",
     "text": [
      "Epoch 1/5\n",
      "60000/60000 [==============================] - 2s 35us/step - loss: 0.6869 - acc: 0.8252\n",
      "Epoch 2/5\n",
      "60000/60000 [==============================] - 2s 32us/step - loss: 0.3378 - acc: 0.9061\n",
      "Epoch 3/5\n",
      "60000/60000 [==============================] - 2s 32us/step - loss: 0.2882 - acc: 0.9200\n",
      "Epoch 4/5\n",
      "60000/60000 [==============================] - 2s 32us/step - loss: 0.2593 - acc: 0.9278\n",
      "Epoch 5/5\n",
      "60000/60000 [==============================] - 2s 32us/step - loss: 0.2385 - acc: 0.9335\n"
     ]
    }
   ],
   "source": [
    "# 4. 모델 학습시키기\n",
    "hist = model.fit(x_train, y_train, epochs=5, batch_size=32)"
   ]
  },
  {
   "cell_type": "code",
   "execution_count": 39,
   "metadata": {
    "collapsed": false
   },
   "outputs": [
    {
     "name": "stdout",
     "output_type": "stream",
     "text": [
      "## training loss and acc ##\n",
      "[0.68689216461579006, 0.33777152049938836, 0.2881907583574454, 0.25933876719474791, 0.23854898762802282]\n",
      "[0.82516666666666671, 0.90610000000000002, 0.91996666666666671, 0.92783333333333329, 0.9335]\n"
     ]
    }
   ],
   "source": [
    "# 5. 학습과정 살펴보기\n",
    "print('## training loss and acc ##')\n",
    "print(hist.history['loss'])\n",
    "print(hist.history['acc'])"
   ]
  },
  {
   "cell_type": "code",
   "execution_count": 40,
   "metadata": {
    "collapsed": false
   },
   "outputs": [
    {
     "name": "stdout",
     "output_type": "stream",
     "text": [
      "10000/10000 [==============================] - 0s 20us/step\n",
      "## evaluation loss and_metrics ##\n",
      "[0.22738593712747096, 0.93730000000000002]\n"
     ]
    }
   ],
   "source": [
    "# 6. 모델 평가하기\n",
    "loss_and_metrics = model.evaluate(x_test, y_test, batch_size=32)\n",
    "print('## evaluation loss and_metrics ##')\n",
    "print(loss_and_metrics)"
   ]
  },
  {
   "cell_type": "code",
   "execution_count": 11,
   "metadata": {
    "collapsed": false
   },
   "outputs": [
    {
     "name": "stdout",
     "output_type": "stream",
     "text": [
      "## yhat ##\n",
      "[[ 0.09428676  0.08607131  0.06028552  0.10256538  0.14904547  0.08466402\n",
      "   0.12507488  0.10403883  0.09331768  0.10065018]]\n"
     ]
    }
   ],
   "source": [
    "# 7. 모델 사용하기\n",
    "xhat = x_test[0:1]\n",
    "yhat = model.predict(xhat)\n",
    "print('## yhat ##')\n",
    "print(yhat)"
   ]
  },
  {
   "cell_type": "markdown",
   "metadata": {},
   "source": [
    "[keras model api 설명](https://keras.io/models/model)\n",
    "<br>\n",
    "[keras gitbook](https://ustczen.gitbooks.io/keras/content/)"
   ]
  },
  {
   "cell_type": "markdown",
   "metadata": {},
   "source": [
    "### Keras Gitbook Examples\n",
    "- https://faroit.github.io/keras-docs/0.3.0/examples/"
   ]
  },
  {
   "cell_type": "code",
   "execution_count": 12,
   "metadata": {
    "collapsed": true
   },
   "outputs": [],
   "source": [
    "from keras.models import Sequential\n",
    "from keras.layers.core import Dense, Dropout, Activation\n",
    "from keras.optimizers import SGD"
   ]
  },
  {
   "cell_type": "code",
   "execution_count": 14,
   "metadata": {
    "collapsed": false
   },
   "outputs": [],
   "source": [
    "model = Sequential()"
   ]
  },
  {
   "cell_type": "code",
   "execution_count": 17,
   "metadata": {
    "collapsed": false
   },
   "outputs": [
    {
     "name": "stderr",
     "output_type": "stream",
     "text": [
      "C:\\Program Files\\Anaconda3\\lib\\site-packages\\ipykernel\\__main__.py:1: UserWarning: Update your `Dense` call to the Keras 2 API: `Dense(20, kernel_initializer=\"uniform\", input_dim=64)`\n",
      "  if __name__ == '__main__':\n"
     ]
    }
   ],
   "source": [
    "model.add(Dense(20, input_dim=64, init='uniform'))\n",
    "model.add(Activation('tanh'))"
   ]
  },
  {
   "cell_type": "code",
   "execution_count": 19,
   "metadata": {
    "collapsed": false
   },
   "outputs": [
    {
     "name": "stderr",
     "output_type": "stream",
     "text": [
      "C:\\Program Files\\Anaconda3\\lib\\site-packages\\ipykernel\\__main__.py:2: UserWarning: Update your `Dense` call to the Keras 2 API: `Dense(64, kernel_initializer=\"uniform\", input_dim=64)`\n",
      "  from ipykernel import kernelapp as app\n",
      "C:\\Program Files\\Anaconda3\\lib\\site-packages\\ipykernel\\__main__.py:5: UserWarning: Update your `Dense` call to the Keras 2 API: `Dense(64, kernel_initializer=\"uniform\", input_dim=2)`\n"
     ]
    }
   ],
   "source": [
    "model.add(Dropout(0.5))\n",
    "model.add(Dense(64, input_dim=64, init='uniform'))\n",
    "model.add(Activation('tanh'))\n",
    "model.add(Dropout(0.5))\n",
    "model.add(Dense(64, input_dim=2, init='uniform'))\n",
    "model.add(Activation('softmax'))"
   ]
  },
  {
   "cell_type": "code",
   "execution_count": 20,
   "metadata": {
    "collapsed": false
   },
   "outputs": [
    {
     "data": {
      "image/svg+xml": [
       "<svg height=\"1051pt\" viewBox=\"0.00 0.00 307.00 1051.00\" width=\"307pt\" xmlns=\"http://www.w3.org/2000/svg\" xmlns:xlink=\"http://www.w3.org/1999/xlink\">\n",
       "<g class=\"graph\" id=\"graph0\" transform=\"scale(1 1) rotate(0) translate(4 1047)\">\n",
       "<title>G</title>\n",
       "<polygon fill=\"white\" points=\"-4,4 -4,-1047 303,-1047 303,4 -4,4\" stroke=\"none\"/>\n",
       "<!-- 2798415520432 -->\n",
       "<g class=\"node\" id=\"node1\"><title>2798415520432</title>\n",
       "<polygon fill=\"none\" points=\"0,-996.5 0,-1042.5 299,-1042.5 299,-996.5 0,-996.5\" stroke=\"black\"/>\n",
       "<text font-family=\"Times New Roman,serif\" font-size=\"14.00\" text-anchor=\"middle\" x=\"83\" y=\"-1015.8\">dense_3_input: InputLayer</text>\n",
       "<polyline fill=\"none\" points=\"166,-996.5 166,-1042.5 \" stroke=\"black\"/>\n",
       "<text font-family=\"Times New Roman,serif\" font-size=\"14.00\" text-anchor=\"middle\" x=\"194\" y=\"-1027.3\">input:</text>\n",
       "<polyline fill=\"none\" points=\"166,-1019.5 222,-1019.5 \" stroke=\"black\"/>\n",
       "<text font-family=\"Times New Roman,serif\" font-size=\"14.00\" text-anchor=\"middle\" x=\"194\" y=\"-1004.3\">output:</text>\n",
       "<polyline fill=\"none\" points=\"222,-996.5 222,-1042.5 \" stroke=\"black\"/>\n",
       "<text font-family=\"Times New Roman,serif\" font-size=\"14.00\" text-anchor=\"middle\" x=\"260.5\" y=\"-1027.3\">(None, 64)</text>\n",
       "<polyline fill=\"none\" points=\"222,-1019.5 299,-1019.5 \" stroke=\"black\"/>\n",
       "<text font-family=\"Times New Roman,serif\" font-size=\"14.00\" text-anchor=\"middle\" x=\"260.5\" y=\"-1004.3\">(None, 64)</text>\n",
       "</g>\n",
       "<!-- 2798415521832 -->\n",
       "<g class=\"node\" id=\"node2\"><title>2798415521832</title>\n",
       "<polygon fill=\"none\" points=\"31,-913.5 31,-959.5 268,-959.5 268,-913.5 31,-913.5\" stroke=\"black\"/>\n",
       "<text font-family=\"Times New Roman,serif\" font-size=\"14.00\" text-anchor=\"middle\" x=\"83\" y=\"-932.8\">dense_3: Dense</text>\n",
       "<polyline fill=\"none\" points=\"135,-913.5 135,-959.5 \" stroke=\"black\"/>\n",
       "<text font-family=\"Times New Roman,serif\" font-size=\"14.00\" text-anchor=\"middle\" x=\"163\" y=\"-944.3\">input:</text>\n",
       "<polyline fill=\"none\" points=\"135,-936.5 191,-936.5 \" stroke=\"black\"/>\n",
       "<text font-family=\"Times New Roman,serif\" font-size=\"14.00\" text-anchor=\"middle\" x=\"163\" y=\"-921.3\">output:</text>\n",
       "<polyline fill=\"none\" points=\"191,-913.5 191,-959.5 \" stroke=\"black\"/>\n",
       "<text font-family=\"Times New Roman,serif\" font-size=\"14.00\" text-anchor=\"middle\" x=\"229.5\" y=\"-944.3\">(None, 64)</text>\n",
       "<polyline fill=\"none\" points=\"191,-936.5 268,-936.5 \" stroke=\"black\"/>\n",
       "<text font-family=\"Times New Roman,serif\" font-size=\"14.00\" text-anchor=\"middle\" x=\"229.5\" y=\"-921.3\">(None, 20)</text>\n",
       "</g>\n",
       "<!-- 2798415520432&#45;&gt;2798415521832 -->\n",
       "<g class=\"edge\" id=\"edge1\"><title>2798415520432-&gt;2798415521832</title>\n",
       "<path d=\"M149.5,-996.366C149.5,-988.152 149.5,-978.658 149.5,-969.725\" fill=\"none\" stroke=\"black\"/>\n",
       "<polygon fill=\"black\" points=\"153,-969.607 149.5,-959.607 146,-969.607 153,-969.607\" stroke=\"black\"/>\n",
       "</g>\n",
       "<!-- 2798424022096 -->\n",
       "<g class=\"node\" id=\"node3\"><title>2798424022096</title>\n",
       "<polygon fill=\"none\" points=\"9,-830.5 9,-876.5 290,-876.5 290,-830.5 9,-830.5\" stroke=\"black\"/>\n",
       "<text font-family=\"Times New Roman,serif\" font-size=\"14.00\" text-anchor=\"middle\" x=\"83\" y=\"-849.8\">activation_1: Activation</text>\n",
       "<polyline fill=\"none\" points=\"157,-830.5 157,-876.5 \" stroke=\"black\"/>\n",
       "<text font-family=\"Times New Roman,serif\" font-size=\"14.00\" text-anchor=\"middle\" x=\"185\" y=\"-861.3\">input:</text>\n",
       "<polyline fill=\"none\" points=\"157,-853.5 213,-853.5 \" stroke=\"black\"/>\n",
       "<text font-family=\"Times New Roman,serif\" font-size=\"14.00\" text-anchor=\"middle\" x=\"185\" y=\"-838.3\">output:</text>\n",
       "<polyline fill=\"none\" points=\"213,-830.5 213,-876.5 \" stroke=\"black\"/>\n",
       "<text font-family=\"Times New Roman,serif\" font-size=\"14.00\" text-anchor=\"middle\" x=\"251.5\" y=\"-861.3\">(None, 20)</text>\n",
       "<polyline fill=\"none\" points=\"213,-853.5 290,-853.5 \" stroke=\"black\"/>\n",
       "<text font-family=\"Times New Roman,serif\" font-size=\"14.00\" text-anchor=\"middle\" x=\"251.5\" y=\"-838.3\">(None, 20)</text>\n",
       "</g>\n",
       "<!-- 2798415521832&#45;&gt;2798424022096 -->\n",
       "<g class=\"edge\" id=\"edge2\"><title>2798415521832-&gt;2798424022096</title>\n",
       "<path d=\"M149.5,-913.366C149.5,-905.152 149.5,-895.658 149.5,-886.725\" fill=\"none\" stroke=\"black\"/>\n",
       "<polygon fill=\"black\" points=\"153,-886.607 149.5,-876.607 146,-886.607 153,-886.607\" stroke=\"black\"/>\n",
       "</g>\n",
       "<!-- 2798424022992 -->\n",
       "<g class=\"node\" id=\"node4\"><title>2798424022992</title>\n",
       "<polygon fill=\"none\" points=\"18,-747.5 18,-793.5 281,-793.5 281,-747.5 18,-747.5\" stroke=\"black\"/>\n",
       "<text font-family=\"Times New Roman,serif\" font-size=\"14.00\" text-anchor=\"middle\" x=\"83\" y=\"-766.8\">dropout_1: Dropout</text>\n",
       "<polyline fill=\"none\" points=\"148,-747.5 148,-793.5 \" stroke=\"black\"/>\n",
       "<text font-family=\"Times New Roman,serif\" font-size=\"14.00\" text-anchor=\"middle\" x=\"176\" y=\"-778.3\">input:</text>\n",
       "<polyline fill=\"none\" points=\"148,-770.5 204,-770.5 \" stroke=\"black\"/>\n",
       "<text font-family=\"Times New Roman,serif\" font-size=\"14.00\" text-anchor=\"middle\" x=\"176\" y=\"-755.3\">output:</text>\n",
       "<polyline fill=\"none\" points=\"204,-747.5 204,-793.5 \" stroke=\"black\"/>\n",
       "<text font-family=\"Times New Roman,serif\" font-size=\"14.00\" text-anchor=\"middle\" x=\"242.5\" y=\"-778.3\">(None, 20)</text>\n",
       "<polyline fill=\"none\" points=\"204,-770.5 281,-770.5 \" stroke=\"black\"/>\n",
       "<text font-family=\"Times New Roman,serif\" font-size=\"14.00\" text-anchor=\"middle\" x=\"242.5\" y=\"-755.3\">(None, 20)</text>\n",
       "</g>\n",
       "<!-- 2798424022096&#45;&gt;2798424022992 -->\n",
       "<g class=\"edge\" id=\"edge3\"><title>2798424022096-&gt;2798424022992</title>\n",
       "<path d=\"M149.5,-830.366C149.5,-822.152 149.5,-812.658 149.5,-803.725\" fill=\"none\" stroke=\"black\"/>\n",
       "<polygon fill=\"black\" points=\"153,-803.607 149.5,-793.607 146,-803.607 153,-803.607\" stroke=\"black\"/>\n",
       "</g>\n",
       "<!-- 2798420677184 -->\n",
       "<g class=\"node\" id=\"node5\"><title>2798420677184</title>\n",
       "<polygon fill=\"none\" points=\"31,-664.5 31,-710.5 268,-710.5 268,-664.5 31,-664.5\" stroke=\"black\"/>\n",
       "<text font-family=\"Times New Roman,serif\" font-size=\"14.00\" text-anchor=\"middle\" x=\"83\" y=\"-683.8\">dense_4: Dense</text>\n",
       "<polyline fill=\"none\" points=\"135,-664.5 135,-710.5 \" stroke=\"black\"/>\n",
       "<text font-family=\"Times New Roman,serif\" font-size=\"14.00\" text-anchor=\"middle\" x=\"163\" y=\"-695.3\">input:</text>\n",
       "<polyline fill=\"none\" points=\"135,-687.5 191,-687.5 \" stroke=\"black\"/>\n",
       "<text font-family=\"Times New Roman,serif\" font-size=\"14.00\" text-anchor=\"middle\" x=\"163\" y=\"-672.3\">output:</text>\n",
       "<polyline fill=\"none\" points=\"191,-664.5 191,-710.5 \" stroke=\"black\"/>\n",
       "<text font-family=\"Times New Roman,serif\" font-size=\"14.00\" text-anchor=\"middle\" x=\"229.5\" y=\"-695.3\">(None, 20)</text>\n",
       "<polyline fill=\"none\" points=\"191,-687.5 268,-687.5 \" stroke=\"black\"/>\n",
       "<text font-family=\"Times New Roman,serif\" font-size=\"14.00\" text-anchor=\"middle\" x=\"229.5\" y=\"-672.3\">(None, 20)</text>\n",
       "</g>\n",
       "<!-- 2798424022992&#45;&gt;2798420677184 -->\n",
       "<g class=\"edge\" id=\"edge4\"><title>2798424022992-&gt;2798420677184</title>\n",
       "<path d=\"M149.5,-747.366C149.5,-739.152 149.5,-729.658 149.5,-720.725\" fill=\"none\" stroke=\"black\"/>\n",
       "<polygon fill=\"black\" points=\"153,-720.607 149.5,-710.607 146,-720.607 153,-720.607\" stroke=\"black\"/>\n",
       "</g>\n",
       "<!-- 2798420677072 -->\n",
       "<g class=\"node\" id=\"node6\"><title>2798420677072</title>\n",
       "<polygon fill=\"none\" points=\"9,-581.5 9,-627.5 290,-627.5 290,-581.5 9,-581.5\" stroke=\"black\"/>\n",
       "<text font-family=\"Times New Roman,serif\" font-size=\"14.00\" text-anchor=\"middle\" x=\"83\" y=\"-600.8\">activation_2: Activation</text>\n",
       "<polyline fill=\"none\" points=\"157,-581.5 157,-627.5 \" stroke=\"black\"/>\n",
       "<text font-family=\"Times New Roman,serif\" font-size=\"14.00\" text-anchor=\"middle\" x=\"185\" y=\"-612.3\">input:</text>\n",
       "<polyline fill=\"none\" points=\"157,-604.5 213,-604.5 \" stroke=\"black\"/>\n",
       "<text font-family=\"Times New Roman,serif\" font-size=\"14.00\" text-anchor=\"middle\" x=\"185\" y=\"-589.3\">output:</text>\n",
       "<polyline fill=\"none\" points=\"213,-581.5 213,-627.5 \" stroke=\"black\"/>\n",
       "<text font-family=\"Times New Roman,serif\" font-size=\"14.00\" text-anchor=\"middle\" x=\"251.5\" y=\"-612.3\">(None, 20)</text>\n",
       "<polyline fill=\"none\" points=\"213,-604.5 290,-604.5 \" stroke=\"black\"/>\n",
       "<text font-family=\"Times New Roman,serif\" font-size=\"14.00\" text-anchor=\"middle\" x=\"251.5\" y=\"-589.3\">(None, 20)</text>\n",
       "</g>\n",
       "<!-- 2798420677184&#45;&gt;2798420677072 -->\n",
       "<g class=\"edge\" id=\"edge5\"><title>2798420677184-&gt;2798420677072</title>\n",
       "<path d=\"M149.5,-664.366C149.5,-656.152 149.5,-646.658 149.5,-637.725\" fill=\"none\" stroke=\"black\"/>\n",
       "<polygon fill=\"black\" points=\"153,-637.607 149.5,-627.607 146,-637.607 153,-637.607\" stroke=\"black\"/>\n",
       "</g>\n",
       "<!-- 2798420677352 -->\n",
       "<g class=\"node\" id=\"node7\"><title>2798420677352</title>\n",
       "<polygon fill=\"none\" points=\"18,-498.5 18,-544.5 281,-544.5 281,-498.5 18,-498.5\" stroke=\"black\"/>\n",
       "<text font-family=\"Times New Roman,serif\" font-size=\"14.00\" text-anchor=\"middle\" x=\"83\" y=\"-517.8\">dropout_2: Dropout</text>\n",
       "<polyline fill=\"none\" points=\"148,-498.5 148,-544.5 \" stroke=\"black\"/>\n",
       "<text font-family=\"Times New Roman,serif\" font-size=\"14.00\" text-anchor=\"middle\" x=\"176\" y=\"-529.3\">input:</text>\n",
       "<polyline fill=\"none\" points=\"148,-521.5 204,-521.5 \" stroke=\"black\"/>\n",
       "<text font-family=\"Times New Roman,serif\" font-size=\"14.00\" text-anchor=\"middle\" x=\"176\" y=\"-506.3\">output:</text>\n",
       "<polyline fill=\"none\" points=\"204,-498.5 204,-544.5 \" stroke=\"black\"/>\n",
       "<text font-family=\"Times New Roman,serif\" font-size=\"14.00\" text-anchor=\"middle\" x=\"242.5\" y=\"-529.3\">(None, 20)</text>\n",
       "<polyline fill=\"none\" points=\"204,-521.5 281,-521.5 \" stroke=\"black\"/>\n",
       "<text font-family=\"Times New Roman,serif\" font-size=\"14.00\" text-anchor=\"middle\" x=\"242.5\" y=\"-506.3\">(None, 20)</text>\n",
       "</g>\n",
       "<!-- 2798420677072&#45;&gt;2798420677352 -->\n",
       "<g class=\"edge\" id=\"edge6\"><title>2798420677072-&gt;2798420677352</title>\n",
       "<path d=\"M149.5,-581.366C149.5,-573.152 149.5,-563.658 149.5,-554.725\" fill=\"none\" stroke=\"black\"/>\n",
       "<polygon fill=\"black\" points=\"153,-554.607 149.5,-544.607 146,-554.607 153,-554.607\" stroke=\"black\"/>\n",
       "</g>\n",
       "<!-- 2798420990944 -->\n",
       "<g class=\"node\" id=\"node8\"><title>2798420990944</title>\n",
       "<polygon fill=\"none\" points=\"18,-415.5 18,-461.5 281,-461.5 281,-415.5 18,-415.5\" stroke=\"black\"/>\n",
       "<text font-family=\"Times New Roman,serif\" font-size=\"14.00\" text-anchor=\"middle\" x=\"83\" y=\"-434.8\">dropout_3: Dropout</text>\n",
       "<polyline fill=\"none\" points=\"148,-415.5 148,-461.5 \" stroke=\"black\"/>\n",
       "<text font-family=\"Times New Roman,serif\" font-size=\"14.00\" text-anchor=\"middle\" x=\"176\" y=\"-446.3\">input:</text>\n",
       "<polyline fill=\"none\" points=\"148,-438.5 204,-438.5 \" stroke=\"black\"/>\n",
       "<text font-family=\"Times New Roman,serif\" font-size=\"14.00\" text-anchor=\"middle\" x=\"176\" y=\"-423.3\">output:</text>\n",
       "<polyline fill=\"none\" points=\"204,-415.5 204,-461.5 \" stroke=\"black\"/>\n",
       "<text font-family=\"Times New Roman,serif\" font-size=\"14.00\" text-anchor=\"middle\" x=\"242.5\" y=\"-446.3\">(None, 20)</text>\n",
       "<polyline fill=\"none\" points=\"204,-438.5 281,-438.5 \" stroke=\"black\"/>\n",
       "<text font-family=\"Times New Roman,serif\" font-size=\"14.00\" text-anchor=\"middle\" x=\"242.5\" y=\"-423.3\">(None, 20)</text>\n",
       "</g>\n",
       "<!-- 2798420677352&#45;&gt;2798420990944 -->\n",
       "<g class=\"edge\" id=\"edge7\"><title>2798420677352-&gt;2798420990944</title>\n",
       "<path d=\"M149.5,-498.366C149.5,-490.152 149.5,-480.658 149.5,-471.725\" fill=\"none\" stroke=\"black\"/>\n",
       "<polygon fill=\"black\" points=\"153,-471.607 149.5,-461.607 146,-471.607 153,-471.607\" stroke=\"black\"/>\n",
       "</g>\n",
       "<!-- 2798420991000 -->\n",
       "<g class=\"node\" id=\"node9\"><title>2798420991000</title>\n",
       "<polygon fill=\"none\" points=\"31,-332.5 31,-378.5 268,-378.5 268,-332.5 31,-332.5\" stroke=\"black\"/>\n",
       "<text font-family=\"Times New Roman,serif\" font-size=\"14.00\" text-anchor=\"middle\" x=\"83\" y=\"-351.8\">dense_5: Dense</text>\n",
       "<polyline fill=\"none\" points=\"135,-332.5 135,-378.5 \" stroke=\"black\"/>\n",
       "<text font-family=\"Times New Roman,serif\" font-size=\"14.00\" text-anchor=\"middle\" x=\"163\" y=\"-363.3\">input:</text>\n",
       "<polyline fill=\"none\" points=\"135,-355.5 191,-355.5 \" stroke=\"black\"/>\n",
       "<text font-family=\"Times New Roman,serif\" font-size=\"14.00\" text-anchor=\"middle\" x=\"163\" y=\"-340.3\">output:</text>\n",
       "<polyline fill=\"none\" points=\"191,-332.5 191,-378.5 \" stroke=\"black\"/>\n",
       "<text font-family=\"Times New Roman,serif\" font-size=\"14.00\" text-anchor=\"middle\" x=\"229.5\" y=\"-363.3\">(None, 20)</text>\n",
       "<polyline fill=\"none\" points=\"191,-355.5 268,-355.5 \" stroke=\"black\"/>\n",
       "<text font-family=\"Times New Roman,serif\" font-size=\"14.00\" text-anchor=\"middle\" x=\"229.5\" y=\"-340.3\">(None, 64)</text>\n",
       "</g>\n",
       "<!-- 2798420990944&#45;&gt;2798420991000 -->\n",
       "<g class=\"edge\" id=\"edge8\"><title>2798420990944-&gt;2798420991000</title>\n",
       "<path d=\"M149.5,-415.366C149.5,-407.152 149.5,-397.658 149.5,-388.725\" fill=\"none\" stroke=\"black\"/>\n",
       "<polygon fill=\"black\" points=\"153,-388.607 149.5,-378.607 146,-388.607 153,-388.607\" stroke=\"black\"/>\n",
       "</g>\n",
       "<!-- 2798420991056 -->\n",
       "<g class=\"node\" id=\"node10\"><title>2798420991056</title>\n",
       "<polygon fill=\"none\" points=\"9,-249.5 9,-295.5 290,-295.5 290,-249.5 9,-249.5\" stroke=\"black\"/>\n",
       "<text font-family=\"Times New Roman,serif\" font-size=\"14.00\" text-anchor=\"middle\" x=\"83\" y=\"-268.8\">activation_3: Activation</text>\n",
       "<polyline fill=\"none\" points=\"157,-249.5 157,-295.5 \" stroke=\"black\"/>\n",
       "<text font-family=\"Times New Roman,serif\" font-size=\"14.00\" text-anchor=\"middle\" x=\"185\" y=\"-280.3\">input:</text>\n",
       "<polyline fill=\"none\" points=\"157,-272.5 213,-272.5 \" stroke=\"black\"/>\n",
       "<text font-family=\"Times New Roman,serif\" font-size=\"14.00\" text-anchor=\"middle\" x=\"185\" y=\"-257.3\">output:</text>\n",
       "<polyline fill=\"none\" points=\"213,-249.5 213,-295.5 \" stroke=\"black\"/>\n",
       "<text font-family=\"Times New Roman,serif\" font-size=\"14.00\" text-anchor=\"middle\" x=\"251.5\" y=\"-280.3\">(None, 64)</text>\n",
       "<polyline fill=\"none\" points=\"213,-272.5 290,-272.5 \" stroke=\"black\"/>\n",
       "<text font-family=\"Times New Roman,serif\" font-size=\"14.00\" text-anchor=\"middle\" x=\"251.5\" y=\"-257.3\">(None, 64)</text>\n",
       "</g>\n",
       "<!-- 2798420991000&#45;&gt;2798420991056 -->\n",
       "<g class=\"edge\" id=\"edge9\"><title>2798420991000-&gt;2798420991056</title>\n",
       "<path d=\"M149.5,-332.366C149.5,-324.152 149.5,-314.658 149.5,-305.725\" fill=\"none\" stroke=\"black\"/>\n",
       "<polygon fill=\"black\" points=\"153,-305.607 149.5,-295.607 146,-305.607 153,-305.607\" stroke=\"black\"/>\n",
       "</g>\n",
       "<!-- 2798420991840 -->\n",
       "<g class=\"node\" id=\"node11\"><title>2798420991840</title>\n",
       "<polygon fill=\"none\" points=\"18,-166.5 18,-212.5 281,-212.5 281,-166.5 18,-166.5\" stroke=\"black\"/>\n",
       "<text font-family=\"Times New Roman,serif\" font-size=\"14.00\" text-anchor=\"middle\" x=\"83\" y=\"-185.8\">dropout_4: Dropout</text>\n",
       "<polyline fill=\"none\" points=\"148,-166.5 148,-212.5 \" stroke=\"black\"/>\n",
       "<text font-family=\"Times New Roman,serif\" font-size=\"14.00\" text-anchor=\"middle\" x=\"176\" y=\"-197.3\">input:</text>\n",
       "<polyline fill=\"none\" points=\"148,-189.5 204,-189.5 \" stroke=\"black\"/>\n",
       "<text font-family=\"Times New Roman,serif\" font-size=\"14.00\" text-anchor=\"middle\" x=\"176\" y=\"-174.3\">output:</text>\n",
       "<polyline fill=\"none\" points=\"204,-166.5 204,-212.5 \" stroke=\"black\"/>\n",
       "<text font-family=\"Times New Roman,serif\" font-size=\"14.00\" text-anchor=\"middle\" x=\"242.5\" y=\"-197.3\">(None, 64)</text>\n",
       "<polyline fill=\"none\" points=\"204,-189.5 281,-189.5 \" stroke=\"black\"/>\n",
       "<text font-family=\"Times New Roman,serif\" font-size=\"14.00\" text-anchor=\"middle\" x=\"242.5\" y=\"-174.3\">(None, 64)</text>\n",
       "</g>\n",
       "<!-- 2798420991056&#45;&gt;2798420991840 -->\n",
       "<g class=\"edge\" id=\"edge10\"><title>2798420991056-&gt;2798420991840</title>\n",
       "<path d=\"M149.5,-249.366C149.5,-241.152 149.5,-231.658 149.5,-222.725\" fill=\"none\" stroke=\"black\"/>\n",
       "<polygon fill=\"black\" points=\"153,-222.607 149.5,-212.607 146,-222.607 153,-222.607\" stroke=\"black\"/>\n",
       "</g>\n",
       "<!-- 2798420991896 -->\n",
       "<g class=\"node\" id=\"node12\"><title>2798420991896</title>\n",
       "<polygon fill=\"none\" points=\"31,-83.5 31,-129.5 268,-129.5 268,-83.5 31,-83.5\" stroke=\"black\"/>\n",
       "<text font-family=\"Times New Roman,serif\" font-size=\"14.00\" text-anchor=\"middle\" x=\"83\" y=\"-102.8\">dense_6: Dense</text>\n",
       "<polyline fill=\"none\" points=\"135,-83.5 135,-129.5 \" stroke=\"black\"/>\n",
       "<text font-family=\"Times New Roman,serif\" font-size=\"14.00\" text-anchor=\"middle\" x=\"163\" y=\"-114.3\">input:</text>\n",
       "<polyline fill=\"none\" points=\"135,-106.5 191,-106.5 \" stroke=\"black\"/>\n",
       "<text font-family=\"Times New Roman,serif\" font-size=\"14.00\" text-anchor=\"middle\" x=\"163\" y=\"-91.3\">output:</text>\n",
       "<polyline fill=\"none\" points=\"191,-83.5 191,-129.5 \" stroke=\"black\"/>\n",
       "<text font-family=\"Times New Roman,serif\" font-size=\"14.00\" text-anchor=\"middle\" x=\"229.5\" y=\"-114.3\">(None, 64)</text>\n",
       "<polyline fill=\"none\" points=\"191,-106.5 268,-106.5 \" stroke=\"black\"/>\n",
       "<text font-family=\"Times New Roman,serif\" font-size=\"14.00\" text-anchor=\"middle\" x=\"229.5\" y=\"-91.3\">(None, 64)</text>\n",
       "</g>\n",
       "<!-- 2798420991840&#45;&gt;2798420991896 -->\n",
       "<g class=\"edge\" id=\"edge11\"><title>2798420991840-&gt;2798420991896</title>\n",
       "<path d=\"M149.5,-166.366C149.5,-158.152 149.5,-148.658 149.5,-139.725\" fill=\"none\" stroke=\"black\"/>\n",
       "<polygon fill=\"black\" points=\"153,-139.607 149.5,-129.607 146,-139.607 153,-139.607\" stroke=\"black\"/>\n",
       "</g>\n",
       "<!-- 2798420991112 -->\n",
       "<g class=\"node\" id=\"node13\"><title>2798420991112</title>\n",
       "<polygon fill=\"none\" points=\"9,-0.5 9,-46.5 290,-46.5 290,-0.5 9,-0.5\" stroke=\"black\"/>\n",
       "<text font-family=\"Times New Roman,serif\" font-size=\"14.00\" text-anchor=\"middle\" x=\"83\" y=\"-19.8\">activation_4: Activation</text>\n",
       "<polyline fill=\"none\" points=\"157,-0.5 157,-46.5 \" stroke=\"black\"/>\n",
       "<text font-family=\"Times New Roman,serif\" font-size=\"14.00\" text-anchor=\"middle\" x=\"185\" y=\"-31.3\">input:</text>\n",
       "<polyline fill=\"none\" points=\"157,-23.5 213,-23.5 \" stroke=\"black\"/>\n",
       "<text font-family=\"Times New Roman,serif\" font-size=\"14.00\" text-anchor=\"middle\" x=\"185\" y=\"-8.3\">output:</text>\n",
       "<polyline fill=\"none\" points=\"213,-0.5 213,-46.5 \" stroke=\"black\"/>\n",
       "<text font-family=\"Times New Roman,serif\" font-size=\"14.00\" text-anchor=\"middle\" x=\"251.5\" y=\"-31.3\">(None, 64)</text>\n",
       "<polyline fill=\"none\" points=\"213,-23.5 290,-23.5 \" stroke=\"black\"/>\n",
       "<text font-family=\"Times New Roman,serif\" font-size=\"14.00\" text-anchor=\"middle\" x=\"251.5\" y=\"-8.3\">(None, 64)</text>\n",
       "</g>\n",
       "<!-- 2798420991896&#45;&gt;2798420991112 -->\n",
       "<g class=\"edge\" id=\"edge12\"><title>2798420991896-&gt;2798420991112</title>\n",
       "<path d=\"M149.5,-83.3664C149.5,-75.1516 149.5,-65.6579 149.5,-56.7252\" fill=\"none\" stroke=\"black\"/>\n",
       "<polygon fill=\"black\" points=\"153,-56.6068 149.5,-46.6068 146,-56.6069 153,-56.6068\" stroke=\"black\"/>\n",
       "</g>\n",
       "</g>\n",
       "</svg>"
      ],
      "text/plain": [
       "<IPython.core.display.SVG object>"
      ]
     },
     "execution_count": 20,
     "metadata": {},
     "output_type": "execute_result"
    }
   ],
   "source": [
    "SVG(model_to_dot(model, show_shapes=True).create(prog='dot', format='svg'))"
   ]
  },
  {
   "cell_type": "code",
   "execution_count": 21,
   "metadata": {
    "collapsed": true
   },
   "outputs": [],
   "source": [
    "sgd = SGD(lr=0.1, decay=1e-6, momentum=0.9, nesterov=True)\n",
    "model.compile(loss='mean_squared_error', optimizer=sgd)"
   ]
  },
  {
   "cell_type": "code",
   "execution_count": 30,
   "metadata": {
    "collapsed": false
   },
   "outputs": [
    {
     "name": "stderr",
     "output_type": "stream",
     "text": [
      "C:\\Program Files\\Anaconda3\\lib\\site-packages\\ipykernel\\__main__.py:2: UserWarning: Update your `Dense` call to the Keras 2 API: `Dense(20, kernel_initializer=\"uniform\", input_dim=64, activation=\"tanh\")`\n",
      "  from ipykernel import kernelapp as app\n",
      "C:\\Program Files\\Anaconda3\\lib\\site-packages\\ipykernel\\__main__.py:4: UserWarning: Update your `Dense` call to the Keras 2 API: `Dense(64, kernel_initializer=\"uniform\", input_dim=64, activation=\"tanh\")`\n",
      "C:\\Program Files\\Anaconda3\\lib\\site-packages\\ipykernel\\__main__.py:6: UserWarning: Update your `Dense` call to the Keras 2 API: `Dense(64, kernel_initializer=\"uniform\", input_dim=2, activation=\"softmax\")`\n"
     ]
    }
   ],
   "source": [
    "model = Sequential()\n",
    "model.add(Dense(20, input_dim=64, init='uniform', activation='tanh'))\n",
    "model.add(Dropout(0.5))\n",
    "model.add(Dense(64, input_dim=64, init='uniform', activation='tanh'))\n",
    "model.add(Dropout(0.5))\n",
    "model.add(Dense(64, input_dim=2, init='uniform', activation='softmax'))"
   ]
  },
  {
   "cell_type": "code",
   "execution_count": 31,
   "metadata": {
    "collapsed": false
   },
   "outputs": [
    {
     "data": {
      "image/svg+xml": [
       "<svg height=\"470pt\" viewBox=\"0.00 0.00 307.00 470.00\" width=\"307pt\" xmlns=\"http://www.w3.org/2000/svg\" xmlns:xlink=\"http://www.w3.org/1999/xlink\">\n",
       "<g class=\"graph\" id=\"graph0\" transform=\"scale(1 1) rotate(0) translate(4 466)\">\n",
       "<title>G</title>\n",
       "<polygon fill=\"white\" points=\"-4,4 -4,-466 303,-466 303,4 -4,4\" stroke=\"none\"/>\n",
       "<!-- 2798425291128 -->\n",
       "<g class=\"node\" id=\"node1\"><title>2798425291128</title>\n",
       "<polygon fill=\"none\" points=\"0,-415.5 0,-461.5 299,-461.5 299,-415.5 0,-415.5\" stroke=\"black\"/>\n",
       "<text font-family=\"Times New Roman,serif\" font-size=\"14.00\" text-anchor=\"middle\" x=\"83\" y=\"-434.8\">dense_9_input: InputLayer</text>\n",
       "<polyline fill=\"none\" points=\"166,-415.5 166,-461.5 \" stroke=\"black\"/>\n",
       "<text font-family=\"Times New Roman,serif\" font-size=\"14.00\" text-anchor=\"middle\" x=\"194\" y=\"-446.3\">input:</text>\n",
       "<polyline fill=\"none\" points=\"166,-438.5 222,-438.5 \" stroke=\"black\"/>\n",
       "<text font-family=\"Times New Roman,serif\" font-size=\"14.00\" text-anchor=\"middle\" x=\"194\" y=\"-423.3\">output:</text>\n",
       "<polyline fill=\"none\" points=\"222,-415.5 222,-461.5 \" stroke=\"black\"/>\n",
       "<text font-family=\"Times New Roman,serif\" font-size=\"14.00\" text-anchor=\"middle\" x=\"260.5\" y=\"-446.3\">(None, 64)</text>\n",
       "<polyline fill=\"none\" points=\"222,-438.5 299,-438.5 \" stroke=\"black\"/>\n",
       "<text font-family=\"Times New Roman,serif\" font-size=\"14.00\" text-anchor=\"middle\" x=\"260.5\" y=\"-423.3\">(None, 64)</text>\n",
       "</g>\n",
       "<!-- 2798425290904 -->\n",
       "<g class=\"node\" id=\"node2\"><title>2798425290904</title>\n",
       "<polygon fill=\"none\" points=\"31,-332.5 31,-378.5 268,-378.5 268,-332.5 31,-332.5\" stroke=\"black\"/>\n",
       "<text font-family=\"Times New Roman,serif\" font-size=\"14.00\" text-anchor=\"middle\" x=\"83\" y=\"-351.8\">dense_9: Dense</text>\n",
       "<polyline fill=\"none\" points=\"135,-332.5 135,-378.5 \" stroke=\"black\"/>\n",
       "<text font-family=\"Times New Roman,serif\" font-size=\"14.00\" text-anchor=\"middle\" x=\"163\" y=\"-363.3\">input:</text>\n",
       "<polyline fill=\"none\" points=\"135,-355.5 191,-355.5 \" stroke=\"black\"/>\n",
       "<text font-family=\"Times New Roman,serif\" font-size=\"14.00\" text-anchor=\"middle\" x=\"163\" y=\"-340.3\">output:</text>\n",
       "<polyline fill=\"none\" points=\"191,-332.5 191,-378.5 \" stroke=\"black\"/>\n",
       "<text font-family=\"Times New Roman,serif\" font-size=\"14.00\" text-anchor=\"middle\" x=\"229.5\" y=\"-363.3\">(None, 64)</text>\n",
       "<polyline fill=\"none\" points=\"191,-355.5 268,-355.5 \" stroke=\"black\"/>\n",
       "<text font-family=\"Times New Roman,serif\" font-size=\"14.00\" text-anchor=\"middle\" x=\"229.5\" y=\"-340.3\">(None, 20)</text>\n",
       "</g>\n",
       "<!-- 2798425291128&#45;&gt;2798425290904 -->\n",
       "<g class=\"edge\" id=\"edge1\"><title>2798425291128-&gt;2798425290904</title>\n",
       "<path d=\"M149.5,-415.366C149.5,-407.152 149.5,-397.658 149.5,-388.725\" fill=\"none\" stroke=\"black\"/>\n",
       "<polygon fill=\"black\" points=\"153,-388.607 149.5,-378.607 146,-388.607 153,-388.607\" stroke=\"black\"/>\n",
       "</g>\n",
       "<!-- 2798425291016 -->\n",
       "<g class=\"node\" id=\"node3\"><title>2798425291016</title>\n",
       "<polygon fill=\"none\" points=\"18,-249.5 18,-295.5 281,-295.5 281,-249.5 18,-249.5\" stroke=\"black\"/>\n",
       "<text font-family=\"Times New Roman,serif\" font-size=\"14.00\" text-anchor=\"middle\" x=\"83\" y=\"-268.8\">dropout_7: Dropout</text>\n",
       "<polyline fill=\"none\" points=\"148,-249.5 148,-295.5 \" stroke=\"black\"/>\n",
       "<text font-family=\"Times New Roman,serif\" font-size=\"14.00\" text-anchor=\"middle\" x=\"176\" y=\"-280.3\">input:</text>\n",
       "<polyline fill=\"none\" points=\"148,-272.5 204,-272.5 \" stroke=\"black\"/>\n",
       "<text font-family=\"Times New Roman,serif\" font-size=\"14.00\" text-anchor=\"middle\" x=\"176\" y=\"-257.3\">output:</text>\n",
       "<polyline fill=\"none\" points=\"204,-249.5 204,-295.5 \" stroke=\"black\"/>\n",
       "<text font-family=\"Times New Roman,serif\" font-size=\"14.00\" text-anchor=\"middle\" x=\"242.5\" y=\"-280.3\">(None, 20)</text>\n",
       "<polyline fill=\"none\" points=\"204,-272.5 281,-272.5 \" stroke=\"black\"/>\n",
       "<text font-family=\"Times New Roman,serif\" font-size=\"14.00\" text-anchor=\"middle\" x=\"242.5\" y=\"-257.3\">(None, 20)</text>\n",
       "</g>\n",
       "<!-- 2798425290904&#45;&gt;2798425291016 -->\n",
       "<g class=\"edge\" id=\"edge2\"><title>2798425290904-&gt;2798425291016</title>\n",
       "<path d=\"M149.5,-332.366C149.5,-324.152 149.5,-314.658 149.5,-305.725\" fill=\"none\" stroke=\"black\"/>\n",
       "<polygon fill=\"black\" points=\"153,-305.607 149.5,-295.607 146,-305.607 153,-305.607\" stroke=\"black\"/>\n",
       "</g>\n",
       "<!-- 2798425354024 -->\n",
       "<g class=\"node\" id=\"node4\"><title>2798425354024</title>\n",
       "<polygon fill=\"none\" points=\"27.5,-166.5 27.5,-212.5 271.5,-212.5 271.5,-166.5 27.5,-166.5\" stroke=\"black\"/>\n",
       "<text font-family=\"Times New Roman,serif\" font-size=\"14.00\" text-anchor=\"middle\" x=\"83\" y=\"-185.8\">dense_10: Dense</text>\n",
       "<polyline fill=\"none\" points=\"138.5,-166.5 138.5,-212.5 \" stroke=\"black\"/>\n",
       "<text font-family=\"Times New Roman,serif\" font-size=\"14.00\" text-anchor=\"middle\" x=\"166.5\" y=\"-197.3\">input:</text>\n",
       "<polyline fill=\"none\" points=\"138.5,-189.5 194.5,-189.5 \" stroke=\"black\"/>\n",
       "<text font-family=\"Times New Roman,serif\" font-size=\"14.00\" text-anchor=\"middle\" x=\"166.5\" y=\"-174.3\">output:</text>\n",
       "<polyline fill=\"none\" points=\"194.5,-166.5 194.5,-212.5 \" stroke=\"black\"/>\n",
       "<text font-family=\"Times New Roman,serif\" font-size=\"14.00\" text-anchor=\"middle\" x=\"233\" y=\"-197.3\">(None, 20)</text>\n",
       "<polyline fill=\"none\" points=\"194.5,-189.5 271.5,-189.5 \" stroke=\"black\"/>\n",
       "<text font-family=\"Times New Roman,serif\" font-size=\"14.00\" text-anchor=\"middle\" x=\"233\" y=\"-174.3\">(None, 64)</text>\n",
       "</g>\n",
       "<!-- 2798425291016&#45;&gt;2798425354024 -->\n",
       "<g class=\"edge\" id=\"edge3\"><title>2798425291016-&gt;2798425354024</title>\n",
       "<path d=\"M149.5,-249.366C149.5,-241.152 149.5,-231.658 149.5,-222.725\" fill=\"none\" stroke=\"black\"/>\n",
       "<polygon fill=\"black\" points=\"153,-222.607 149.5,-212.607 146,-222.607 153,-222.607\" stroke=\"black\"/>\n",
       "</g>\n",
       "<!-- 2798425291800 -->\n",
       "<g class=\"node\" id=\"node5\"><title>2798425291800</title>\n",
       "<polygon fill=\"none\" points=\"18,-83.5 18,-129.5 281,-129.5 281,-83.5 18,-83.5\" stroke=\"black\"/>\n",
       "<text font-family=\"Times New Roman,serif\" font-size=\"14.00\" text-anchor=\"middle\" x=\"83\" y=\"-102.8\">dropout_8: Dropout</text>\n",
       "<polyline fill=\"none\" points=\"148,-83.5 148,-129.5 \" stroke=\"black\"/>\n",
       "<text font-family=\"Times New Roman,serif\" font-size=\"14.00\" text-anchor=\"middle\" x=\"176\" y=\"-114.3\">input:</text>\n",
       "<polyline fill=\"none\" points=\"148,-106.5 204,-106.5 \" stroke=\"black\"/>\n",
       "<text font-family=\"Times New Roman,serif\" font-size=\"14.00\" text-anchor=\"middle\" x=\"176\" y=\"-91.3\">output:</text>\n",
       "<polyline fill=\"none\" points=\"204,-83.5 204,-129.5 \" stroke=\"black\"/>\n",
       "<text font-family=\"Times New Roman,serif\" font-size=\"14.00\" text-anchor=\"middle\" x=\"242.5\" y=\"-114.3\">(None, 64)</text>\n",
       "<polyline fill=\"none\" points=\"204,-106.5 281,-106.5 \" stroke=\"black\"/>\n",
       "<text font-family=\"Times New Roman,serif\" font-size=\"14.00\" text-anchor=\"middle\" x=\"242.5\" y=\"-91.3\">(None, 64)</text>\n",
       "</g>\n",
       "<!-- 2798425354024&#45;&gt;2798425291800 -->\n",
       "<g class=\"edge\" id=\"edge4\"><title>2798425354024-&gt;2798425291800</title>\n",
       "<path d=\"M149.5,-166.366C149.5,-158.152 149.5,-148.658 149.5,-139.725\" fill=\"none\" stroke=\"black\"/>\n",
       "<polygon fill=\"black\" points=\"153,-139.607 149.5,-129.607 146,-139.607 153,-139.607\" stroke=\"black\"/>\n",
       "</g>\n",
       "<!-- 2798425291464 -->\n",
       "<g class=\"node\" id=\"node6\"><title>2798425291464</title>\n",
       "<polygon fill=\"none\" points=\"27.5,-0.5 27.5,-46.5 271.5,-46.5 271.5,-0.5 27.5,-0.5\" stroke=\"black\"/>\n",
       "<text font-family=\"Times New Roman,serif\" font-size=\"14.00\" text-anchor=\"middle\" x=\"83\" y=\"-19.8\">dense_11: Dense</text>\n",
       "<polyline fill=\"none\" points=\"138.5,-0.5 138.5,-46.5 \" stroke=\"black\"/>\n",
       "<text font-family=\"Times New Roman,serif\" font-size=\"14.00\" text-anchor=\"middle\" x=\"166.5\" y=\"-31.3\">input:</text>\n",
       "<polyline fill=\"none\" points=\"138.5,-23.5 194.5,-23.5 \" stroke=\"black\"/>\n",
       "<text font-family=\"Times New Roman,serif\" font-size=\"14.00\" text-anchor=\"middle\" x=\"166.5\" y=\"-8.3\">output:</text>\n",
       "<polyline fill=\"none\" points=\"194.5,-0.5 194.5,-46.5 \" stroke=\"black\"/>\n",
       "<text font-family=\"Times New Roman,serif\" font-size=\"14.00\" text-anchor=\"middle\" x=\"233\" y=\"-31.3\">(None, 64)</text>\n",
       "<polyline fill=\"none\" points=\"194.5,-23.5 271.5,-23.5 \" stroke=\"black\"/>\n",
       "<text font-family=\"Times New Roman,serif\" font-size=\"14.00\" text-anchor=\"middle\" x=\"233\" y=\"-8.3\">(None, 64)</text>\n",
       "</g>\n",
       "<!-- 2798425291800&#45;&gt;2798425291464 -->\n",
       "<g class=\"edge\" id=\"edge5\"><title>2798425291800-&gt;2798425291464</title>\n",
       "<path d=\"M149.5,-83.3664C149.5,-75.1516 149.5,-65.6579 149.5,-56.7252\" fill=\"none\" stroke=\"black\"/>\n",
       "<polygon fill=\"black\" points=\"153,-56.6068 149.5,-46.6068 146,-56.6069 153,-56.6068\" stroke=\"black\"/>\n",
       "</g>\n",
       "</g>\n",
       "</svg>"
      ],
      "text/plain": [
       "<IPython.core.display.SVG object>"
      ]
     },
     "execution_count": 31,
     "metadata": {},
     "output_type": "execute_result"
    }
   ],
   "source": [
    "SVG(model_to_dot(model, show_shapes=True).create(prog='dot', format='svg'))"
   ]
  }
 ],
 "metadata": {
  "anaconda-cloud": {},
  "kernelspec": {
   "display_name": "Python [conda root]",
   "language": "python",
   "name": "conda-root-py"
  },
  "language_info": {
   "codemirror_mode": {
    "name": "ipython",
    "version": 3
   },
   "file_extension": ".py",
   "mimetype": "text/x-python",
   "name": "python",
   "nbconvert_exporter": "python",
   "pygments_lexer": "ipython3",
   "version": "3.5.2"
  }
 },
 "nbformat": 4,
 "nbformat_minor": 1
}
