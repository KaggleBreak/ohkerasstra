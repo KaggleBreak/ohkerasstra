{
 "cells": [
  {
   "cell_type": "code",
   "execution_count": 1,
   "metadata": {
    "collapsed": false
   },
   "outputs": [
    {
     "name": "stderr",
     "output_type": "stream",
     "text": [
      "Using TensorFlow backend.\n"
     ]
    }
   ],
   "source": [
    "from keras.models import Sequential\n",
    "from keras.layers import Input, Dense,TimeDistributed\n",
    "from keras.models import Model\n",
    "from keras.layers import Dense, LSTM, Bidirectional,Masking"
   ]
  },
  {
   "cell_type": "code",
   "execution_count": 2,
   "metadata": {
    "collapsed": true
   },
   "outputs": [],
   "source": [
    "inputs = [[[0,0,0],[0,0,0],[0,0,0],[0,0,0]],[[1,2,3],[4,5,6],[7,8,9],[10,11,12]],[[10,20,30],[40,50,60],[70,80,90],[100,110,120]]]\n"
   ]
  },
  {
   "cell_type": "code",
   "execution_count": 3,
   "metadata": {
    "collapsed": false
   },
   "outputs": [
    {
     "data": {
      "text/plain": [
       "[[[0, 0, 0], [0, 0, 0], [0, 0, 0], [0, 0, 0]],\n",
       " [[1, 2, 3], [4, 5, 6], [7, 8, 9], [10, 11, 12]],\n",
       " [[10, 20, 30], [40, 50, 60], [70, 80, 90], [100, 110, 120]]]"
      ]
     },
     "execution_count": 3,
     "metadata": {},
     "output_type": "execute_result"
    }
   ],
   "source": [
    "inputs"
   ]
  },
  {
   "cell_type": "code",
   "execution_count": 4,
   "metadata": {
    "collapsed": true
   },
   "outputs": [],
   "source": [
    "model = Sequential()\n",
    "model.add(Masking(mask_value=0., input_shape = (4,3)))\n",
    "model.add(Bidirectional(LSTM(3,return_sequences = True),merge_mode='concat'))\n",
    "model.add(TimeDistributed(Dense(3,activation = 'softmax')))"
   ]
  },
  {
   "cell_type": "code",
   "execution_count": 14,
   "metadata": {
    "collapsed": false
   },
   "outputs": [
    {
     "data": {
      "image/svg+xml": [
       "<svg height=\"296pt\" viewBox=\"0.00 0.00 467.79 296.00\" width=\"468pt\" xmlns=\"http://www.w3.org/2000/svg\" xmlns:xlink=\"http://www.w3.org/1999/xlink\">\n",
       "<g class=\"graph\" id=\"graph0\" transform=\"scale(1 1) rotate(0) translate(4 292)\">\n",
       "<title>G</title>\n",
       "<polygon fill=\"#ffffff\" points=\"-4,4 -4,-292 463.79,-292 463.79,4 -4,4\" stroke=\"transparent\"/>\n",
       "<!-- 4626290392 -->\n",
       "<g class=\"node\" id=\"node1\">\n",
       "<title>4626290392</title>\n",
       "<polygon fill=\"none\" points=\"68.8345,-243.5 68.8345,-287.5 390.9556,-287.5 390.9556,-243.5 68.8345,-243.5\" stroke=\"#000000\"/>\n",
       "<text fill=\"#000000\" font-family=\"Times,serif\" font-size=\"14.00\" text-anchor=\"middle\" x=\"160.2363\" y=\"-261.3\">masking_1_input: InputLayer</text>\n",
       "<polyline fill=\"none\" points=\"251.6382,-243.5 251.6382,-287.5 \" stroke=\"#000000\"/>\n",
       "<text fill=\"#000000\" font-family=\"Times,serif\" font-size=\"14.00\" text-anchor=\"middle\" x=\"279.4727\" y=\"-272.3\">input:</text>\n",
       "<polyline fill=\"none\" points=\"251.6382,-265.5 307.3071,-265.5 \" stroke=\"#000000\"/>\n",
       "<text fill=\"#000000\" font-family=\"Times,serif\" font-size=\"14.00\" text-anchor=\"middle\" x=\"279.4727\" y=\"-250.3\">output:</text>\n",
       "<polyline fill=\"none\" points=\"307.3071,-243.5 307.3071,-287.5 \" stroke=\"#000000\"/>\n",
       "<text fill=\"#000000\" font-family=\"Times,serif\" font-size=\"14.00\" text-anchor=\"middle\" x=\"349.1313\" y=\"-272.3\">(None, 4, 3)</text>\n",
       "<polyline fill=\"none\" points=\"307.3071,-265.5 390.9556,-265.5 \" stroke=\"#000000\"/>\n",
       "<text fill=\"#000000\" font-family=\"Times,serif\" font-size=\"14.00\" text-anchor=\"middle\" x=\"349.1313\" y=\"-250.3\">(None, 4, 3)</text>\n",
       "</g>\n",
       "<!-- 4626290168 -->\n",
       "<g class=\"node\" id=\"node2\">\n",
       "<title>4626290168</title>\n",
       "<polygon fill=\"none\" points=\"93.3208,-162.5 93.3208,-206.5 366.4692,-206.5 366.4692,-162.5 93.3208,-162.5\" stroke=\"#000000\"/>\n",
       "<text fill=\"#000000\" font-family=\"Times,serif\" font-size=\"14.00\" text-anchor=\"middle\" x=\"160.2363\" y=\"-180.3\">masking_1: Masking</text>\n",
       "<polyline fill=\"none\" points=\"227.1519,-162.5 227.1519,-206.5 \" stroke=\"#000000\"/>\n",
       "<text fill=\"#000000\" font-family=\"Times,serif\" font-size=\"14.00\" text-anchor=\"middle\" x=\"254.9863\" y=\"-191.3\">input:</text>\n",
       "<polyline fill=\"none\" points=\"227.1519,-184.5 282.8208,-184.5 \" stroke=\"#000000\"/>\n",
       "<text fill=\"#000000\" font-family=\"Times,serif\" font-size=\"14.00\" text-anchor=\"middle\" x=\"254.9863\" y=\"-169.3\">output:</text>\n",
       "<polyline fill=\"none\" points=\"282.8208,-162.5 282.8208,-206.5 \" stroke=\"#000000\"/>\n",
       "<text fill=\"#000000\" font-family=\"Times,serif\" font-size=\"14.00\" text-anchor=\"middle\" x=\"324.645\" y=\"-191.3\">(None, 4, 3)</text>\n",
       "<polyline fill=\"none\" points=\"282.8208,-184.5 366.4692,-184.5 \" stroke=\"#000000\"/>\n",
       "<text fill=\"#000000\" font-family=\"Times,serif\" font-size=\"14.00\" text-anchor=\"middle\" x=\"324.645\" y=\"-169.3\">(None, 4, 3)</text>\n",
       "</g>\n",
       "<!-- 4626290392&#45;&gt;4626290168 -->\n",
       "<g class=\"edge\" id=\"edge1\">\n",
       "<title>4626290392-&gt;4626290168</title>\n",
       "<path d=\"M229.895,-243.3664C229.895,-235.1516 229.895,-225.6579 229.895,-216.7252\" fill=\"none\" stroke=\"#000000\"/>\n",
       "<polygon fill=\"#000000\" points=\"233.3951,-216.6068 229.895,-206.6068 226.3951,-216.6069 233.3951,-216.6068\" stroke=\"#000000\"/>\n",
       "</g>\n",
       "<!-- 4627414824 -->\n",
       "<g class=\"node\" id=\"node3\">\n",
       "<title>4627414824</title>\n",
       "<polygon fill=\"none\" points=\"22.5688,-81.5 22.5688,-125.5 437.2212,-125.5 437.2212,-81.5 22.5688,-81.5\" stroke=\"#000000\"/>\n",
       "<text fill=\"#000000\" font-family=\"Times,serif\" font-size=\"14.00\" text-anchor=\"middle\" x=\"160.2363\" y=\"-99.3\">bidirectional_1(lstm_1): Bidirectional(LSTM)</text>\n",
       "<polyline fill=\"none\" points=\"297.9038,-81.5 297.9038,-125.5 \" stroke=\"#000000\"/>\n",
       "<text fill=\"#000000\" font-family=\"Times,serif\" font-size=\"14.00\" text-anchor=\"middle\" x=\"325.7383\" y=\"-110.3\">input:</text>\n",
       "<polyline fill=\"none\" points=\"297.9038,-103.5 353.5728,-103.5 \" stroke=\"#000000\"/>\n",
       "<text fill=\"#000000\" font-family=\"Times,serif\" font-size=\"14.00\" text-anchor=\"middle\" x=\"325.7383\" y=\"-88.3\">output:</text>\n",
       "<polyline fill=\"none\" points=\"353.5728,-81.5 353.5728,-125.5 \" stroke=\"#000000\"/>\n",
       "<text fill=\"#000000\" font-family=\"Times,serif\" font-size=\"14.00\" text-anchor=\"middle\" x=\"395.397\" y=\"-110.3\">(None, 4, 3)</text>\n",
       "<polyline fill=\"none\" points=\"353.5728,-103.5 437.2212,-103.5 \" stroke=\"#000000\"/>\n",
       "<text fill=\"#000000\" font-family=\"Times,serif\" font-size=\"14.00\" text-anchor=\"middle\" x=\"395.397\" y=\"-88.3\">(None, 4, 6)</text>\n",
       "</g>\n",
       "<!-- 4626290168&#45;&gt;4627414824 -->\n",
       "<g class=\"edge\" id=\"edge2\">\n",
       "<title>4626290168-&gt;4627414824</title>\n",
       "<path d=\"M229.895,-162.3664C229.895,-154.1516 229.895,-144.6579 229.895,-135.7252\" fill=\"none\" stroke=\"#000000\"/>\n",
       "<polygon fill=\"#000000\" points=\"233.3951,-135.6068 229.895,-125.6068 226.3951,-135.6069 233.3951,-135.6068\" stroke=\"#000000\"/>\n",
       "</g>\n",
       "<!-- 4651164280 -->\n",
       "<g class=\"node\" id=\"node4\">\n",
       "<title>4651164280</title>\n",
       "<polygon fill=\"none\" points=\"0,-.5 0,-44.5 459.79,-44.5 459.79,-.5 0,-.5\" stroke=\"#000000\"/>\n",
       "<text fill=\"#000000\" font-family=\"Times,serif\" font-size=\"14.00\" text-anchor=\"middle\" x=\"160.2363\" y=\"-18.3\">time_distributed_1(dense_1): TimeDistributed(Dense)</text>\n",
       "<polyline fill=\"none\" points=\"320.4727,-.5 320.4727,-44.5 \" stroke=\"#000000\"/>\n",
       "<text fill=\"#000000\" font-family=\"Times,serif\" font-size=\"14.00\" text-anchor=\"middle\" x=\"348.3071\" y=\"-29.3\">input:</text>\n",
       "<polyline fill=\"none\" points=\"320.4727,-22.5 376.1416,-22.5 \" stroke=\"#000000\"/>\n",
       "<text fill=\"#000000\" font-family=\"Times,serif\" font-size=\"14.00\" text-anchor=\"middle\" x=\"348.3071\" y=\"-7.3\">output:</text>\n",
       "<polyline fill=\"none\" points=\"376.1416,-.5 376.1416,-44.5 \" stroke=\"#000000\"/>\n",
       "<text fill=\"#000000\" font-family=\"Times,serif\" font-size=\"14.00\" text-anchor=\"middle\" x=\"417.9658\" y=\"-29.3\">(None, 4, 6)</text>\n",
       "<polyline fill=\"none\" points=\"376.1416,-22.5 459.79,-22.5 \" stroke=\"#000000\"/>\n",
       "<text fill=\"#000000\" font-family=\"Times,serif\" font-size=\"14.00\" text-anchor=\"middle\" x=\"417.9658\" y=\"-7.3\">(None, 4, 3)</text>\n",
       "</g>\n",
       "<!-- 4627414824&#45;&gt;4651164280 -->\n",
       "<g class=\"edge\" id=\"edge3\">\n",
       "<title>4627414824-&gt;4651164280</title>\n",
       "<path d=\"M229.895,-81.3664C229.895,-73.1516 229.895,-63.6579 229.895,-54.7252\" fill=\"none\" stroke=\"#000000\"/>\n",
       "<polygon fill=\"#000000\" points=\"233.3951,-54.6068 229.895,-44.6068 226.3951,-54.6069 233.3951,-54.6068\" stroke=\"#000000\"/>\n",
       "</g>\n",
       "</g>\n",
       "</svg>"
      ],
      "text/plain": [
       "<IPython.core.display.SVG object>"
      ]
     },
     "execution_count": 14,
     "metadata": {},
     "output_type": "execute_result"
    }
   ],
   "source": [
    "from IPython.display import SVG\n",
    "from keras.utils.vis_utils import model_to_dot\n",
    "\n",
    "%matplotlib inline\n",
    "\n",
    "SVG(model_to_dot(model, show_shapes=True).create(prog='dot', format='svg'))"
   ]
  },
  {
   "cell_type": "code",
   "execution_count": 8,
   "metadata": {
    "collapsed": false
   },
   "outputs": [
    {
     "name": "stderr",
     "output_type": "stream",
     "text": [
      "/Library/Frameworks/Python.framework/Versions/3.5/lib/python3.5/site-packages/ipykernel/__main__.py:1: UserWarning: Update your `Model` call to the Keras 2 API: `Model(outputs=Tensor(\"ma..., inputs=Tensor(\"ma...)`\n",
      "  if __name__ == '__main__':\n"
     ]
    }
   ],
   "source": [
    "intermediate_layer_model = Model(input=model.input,output=model.layers[0].output)"
   ]
  },
  {
   "cell_type": "code",
   "execution_count": 10,
   "metadata": {
    "collapsed": false
   },
   "outputs": [
    {
     "name": "stdout",
     "output_type": "stream",
     "text": [
      "[[[   0.    0.    0.]\n",
      "  [   0.    0.    0.]\n",
      "  [   0.    0.    0.]\n",
      "  [   0.    0.    0.]]\n",
      "\n",
      " [[   1.    2.    3.]\n",
      "  [   4.    5.    6.]\n",
      "  [   7.    8.    9.]\n",
      "  [  10.   11.   12.]]\n",
      "\n",
      " [[  10.   20.   30.]\n",
      "  [  40.   50.   60.]\n",
      "  [  70.   80.   90.]\n",
      "  [ 100.  110.  120.]]]\n"
     ]
    }
   ],
   "source": [
    "print (intermediate_layer_model.predict(inputs))"
   ]
  },
  {
   "cell_type": "code",
   "execution_count": 11,
   "metadata": {
    "collapsed": false
   },
   "outputs": [
    {
     "name": "stderr",
     "output_type": "stream",
     "text": [
      "/Library/Frameworks/Python.framework/Versions/3.5/lib/python3.5/site-packages/ipykernel/__main__.py:1: UserWarning: Update your `Model` call to the Keras 2 API: `Model(outputs=Tensor(\"bi..., inputs=Tensor(\"ma...)`\n",
      "  if __name__ == '__main__':\n"
     ]
    }
   ],
   "source": [
    "intermediate_layer_model = Model(input=model.input,output=model.layers[1].output)"
   ]
  },
  {
   "cell_type": "code",
   "execution_count": 12,
   "metadata": {
    "collapsed": false
   },
   "outputs": [
    {
     "data": {
      "text/plain": [
       "<keras.engine.training.Model at 0x1153f2d68>"
      ]
     },
     "execution_count": 12,
     "metadata": {},
     "output_type": "execute_result"
    }
   ],
   "source": [
    "intermediate_layer_model"
   ]
  },
  {
   "cell_type": "code",
   "execution_count": 13,
   "metadata": {
    "collapsed": false
   },
   "outputs": [
    {
     "data": {
      "text/plain": [
       "array([[[ 0.        ,  0.        ,  0.        ,  0.        ,  0.        ,\n",
       "          0.        ],\n",
       "        [ 0.        ,  0.        ,  0.        ,  0.        ,  0.        ,\n",
       "          0.        ],\n",
       "        [ 0.        ,  0.        ,  0.        ,  0.        ,  0.        ,\n",
       "          0.        ],\n",
       "        [ 0.        ,  0.        ,  0.        ,  0.        ,  0.        ,\n",
       "          0.        ]],\n",
       "\n",
       "       [[ 0.        ,  0.13257015, -0.4192833 , -0.25944749, -0.09258353,\n",
       "          0.0963733 ],\n",
       "        [ 0.        ,  0.32839522, -0.85336912, -0.20833594, -0.03031166,\n",
       "          0.        ],\n",
       "        [ 0.        ,  0.48492175, -0.973418  , -0.15564932,  0.        ,\n",
       "          0.        ],\n",
       "        [ 0.        ,  0.59683365, -0.99610376, -0.08679038,  0.        ,\n",
       "          0.        ]],\n",
       "\n",
       "       [[ 0.        ,  0.        , -0.76159418, -0.        ,  0.        ,\n",
       "          0.        ],\n",
       "        [ 0.        ,  0.43557802, -0.96402758, -0.        ,  0.        ,\n",
       "          0.        ],\n",
       "        [ 0.        ,  0.89895773, -0.99505472, -0.        ,  0.        ,\n",
       "          0.        ],\n",
       "        [ 0.        ,  0.98570073, -0.99932921, -0.        ,  0.        ,\n",
       "          0.        ]]], dtype=float32)"
      ]
     },
     "execution_count": 13,
     "metadata": {},
     "output_type": "execute_result"
    }
   ],
   "source": [
    "intermediate_layer_model.predict(inputs)"
   ]
  },
  {
   "cell_type": "code",
   "execution_count": 15,
   "metadata": {
    "collapsed": false
   },
   "outputs": [
    {
     "name": "stderr",
     "output_type": "stream",
     "text": [
      "/Library/Frameworks/Python.framework/Versions/3.5/lib/python3.5/site-packages/ipykernel/__main__.py:1: UserWarning: Update your `Model` call to the Keras 2 API: `Model(outputs=Tensor(\"ti..., inputs=Tensor(\"ma...)`\n",
      "  if __name__ == '__main__':\n"
     ]
    }
   ],
   "source": [
    "intermediate_layer_model = Model(input=model.input,output=model.layers[2].output)"
   ]
  },
  {
   "cell_type": "code",
   "execution_count": 16,
   "metadata": {
    "collapsed": false
   },
   "outputs": [
    {
     "data": {
      "text/plain": [
       "array([[[ 0.33333334,  0.33333334,  0.33333334],\n",
       "        [ 0.33333334,  0.33333334,  0.33333334],\n",
       "        [ 0.33333334,  0.33333334,  0.33333334],\n",
       "        [ 0.33333334,  0.33333334,  0.33333334]],\n",
       "\n",
       "       [[ 0.38222098,  0.29267484,  0.32510412],\n",
       "        [ 0.40549007,  0.24634564,  0.34816438],\n",
       "        [ 0.40113768,  0.23550257,  0.36335972],\n",
       "        [ 0.38497272,  0.23610598,  0.37892121]],\n",
       "\n",
       "       [[ 0.40381223,  0.23520492,  0.36098278],\n",
       "        [ 0.38469031,  0.23078139,  0.38452831],\n",
       "        [ 0.34937656,  0.24651097,  0.40411243],\n",
       "        [ 0.34280652,  0.2496047 ,  0.40758875]]], dtype=float32)"
      ]
     },
     "execution_count": 16,
     "metadata": {},
     "output_type": "execute_result"
    }
   ],
   "source": [
    "intermediate_layer_model.predict(inputs)"
   ]
  }
 ],
 "metadata": {
  "kernelspec": {
   "display_name": "Python 3",
   "language": "python",
   "name": "python3"
  },
  "language_info": {
   "codemirror_mode": {
    "name": "ipython",
    "version": 3
   },
   "file_extension": ".py",
   "mimetype": "text/x-python",
   "name": "python",
   "nbconvert_exporter": "python",
   "pygments_lexer": "ipython3",
   "version": "3.5.1rc1"
  }
 },
 "nbformat": 4,
 "nbformat_minor": 2
}
